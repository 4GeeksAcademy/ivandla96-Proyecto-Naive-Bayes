{
    "cells": [
        {
            "cell_type": "markdown",
            "metadata": {},
            "source": [
                "## Análisis de sentimientos\n",
                "Los modelos Naive Bayes son muy útiles cuando queremos analizar sentimientos, clasificar textos en tópicos o recomendaciones, ya que las características de estos desafíos cumplen muy bien con los supuestos teóricos y metodológicos del modelo."
            ]
        },
        {
            "cell_type": "markdown",
            "metadata": {},
            "source": [
                "## Contenido del proyecto\n",
                "* [0. Importar librerias](#c0)\n",
                "* [1. Cargar el conjunto de datos](#c1)\n",
                "* [2. Limpieza de datos](#c2)\n",
                "    * [2.1 Identificar las variables](#s21)\n",
                "    * [2.2 Eliminar información irrelevante](#s22)\n",
                "* [3. Naive Bayes](#c3)\n",
                "    * [3.1 Gaussian](#s31)\n",
                "    * [3.2 Multinomia](#s32)\n",
                "    * [3.3 Bernoulli](#s33)\n",
                "* [4. Random Forest](#c4)"
            ]
        },
        {
            "cell_type": "markdown",
            "metadata": {},
            "source": [
                "### 0. Importar librerias"
            ]
        },
        {
            "cell_type": "code",
            "execution_count": 1,
            "metadata": {},
            "outputs": [],
            "source": [
                "from sklearn.datasets import load_iris\n",
                "from sklearn.model_selection import train_test_split\n",
                "from sklearn.naive_bayes import GaussianNB, MultinomialNB, BernoulliNB\n",
                "import pandas as pd"
            ]
        },
        {
            "cell_type": "markdown",
            "metadata": {},
            "source": [
                "### 1. Cargar el conjunto de datos"
            ]
        },
        {
            "cell_type": "code",
            "execution_count": 2,
            "metadata": {},
            "outputs": [
                {
                    "data": {
                        "text/html": [
                            "<div>\n",
                            "<style scoped>\n",
                            "    .dataframe tbody tr th:only-of-type {\n",
                            "        vertical-align: middle;\n",
                            "    }\n",
                            "\n",
                            "    .dataframe tbody tr th {\n",
                            "        vertical-align: top;\n",
                            "    }\n",
                            "\n",
                            "    .dataframe thead th {\n",
                            "        text-align: right;\n",
                            "    }\n",
                            "</style>\n",
                            "<table border=\"1\" class=\"dataframe\">\n",
                            "  <thead>\n",
                            "    <tr style=\"text-align: right;\">\n",
                            "      <th></th>\n",
                            "      <th>package_name</th>\n",
                            "      <th>review</th>\n",
                            "      <th>polarity</th>\n",
                            "    </tr>\n",
                            "  </thead>\n",
                            "  <tbody>\n",
                            "    <tr>\n",
                            "      <th>0</th>\n",
                            "      <td>com.facebook.katana</td>\n",
                            "      <td>privacy at least put some option appear offli...</td>\n",
                            "      <td>0</td>\n",
                            "    </tr>\n",
                            "    <tr>\n",
                            "      <th>1</th>\n",
                            "      <td>com.facebook.katana</td>\n",
                            "      <td>messenger issues ever since the last update, ...</td>\n",
                            "      <td>0</td>\n",
                            "    </tr>\n",
                            "    <tr>\n",
                            "      <th>2</th>\n",
                            "      <td>com.facebook.katana</td>\n",
                            "      <td>profile any time my wife or anybody has more ...</td>\n",
                            "      <td>0</td>\n",
                            "    </tr>\n",
                            "    <tr>\n",
                            "      <th>3</th>\n",
                            "      <td>com.facebook.katana</td>\n",
                            "      <td>the new features suck for those of us who don...</td>\n",
                            "      <td>0</td>\n",
                            "    </tr>\n",
                            "    <tr>\n",
                            "      <th>4</th>\n",
                            "      <td>com.facebook.katana</td>\n",
                            "      <td>forced reload on uploading pic on replying co...</td>\n",
                            "      <td>0</td>\n",
                            "    </tr>\n",
                            "  </tbody>\n",
                            "</table>\n",
                            "</div>"
                        ],
                        "text/plain": [
                            "          package_name                                             review  \\\n",
                            "0  com.facebook.katana   privacy at least put some option appear offli...   \n",
                            "1  com.facebook.katana   messenger issues ever since the last update, ...   \n",
                            "2  com.facebook.katana   profile any time my wife or anybody has more ...   \n",
                            "3  com.facebook.katana   the new features suck for those of us who don...   \n",
                            "4  com.facebook.katana   forced reload on uploading pic on replying co...   \n",
                            "\n",
                            "   polarity  \n",
                            "0         0  \n",
                            "1         0  \n",
                            "2         0  \n",
                            "3         0  \n",
                            "4         0  "
                        ]
                    },
                    "execution_count": 2,
                    "metadata": {},
                    "output_type": "execute_result"
                }
            ],
            "source": [
                "total_data = pd.read_csv(\"https://raw.githubusercontent.com/4GeeksAcademy/naive-bayes-project-tutorial/main/playstore_reviews.csv\")\n",
                "total_data.head()"
            ]
        },
        {
            "cell_type": "markdown",
            "metadata": {},
            "source": [
                "### 2. Limpieza de datos\n",
                "\n",
                "#### 2.1 Identificar variables"
            ]
        },
        {
            "cell_type": "markdown",
            "metadata": {},
            "source": [
                "- ***package_name***. Nombre de la aplicación móvil (categórico)\n",
                "- ***review***. Comentario sobre la aplicación móvil (categórico)\n",
                "- ***polarity***. Variable de clase (0 o 1), siendo 0 un comentario negativo y 1, positivo (categórico numérico)"
            ]
        },
        {
            "cell_type": "code",
            "execution_count": 4,
            "metadata": {},
            "outputs": [
                {
                    "data": {
                        "text/plain": [
                            "(891, 3)"
                        ]
                    },
                    "execution_count": 4,
                    "metadata": {},
                    "output_type": "execute_result"
                }
            ],
            "source": [
                "total_data.shape"
            ]
        },
        {
            "cell_type": "markdown",
            "metadata": {},
            "source": [
                "Observamos 3 columnas y 891 líneas."
            ]
        },
        {
            "cell_type": "markdown",
            "metadata": {},
            "source": [
                "#### 2.2 Eliminar información irrelevante"
            ]
        },
        {
            "cell_type": "markdown",
            "metadata": {},
            "source": [
                "A continuación vamos a eliminar la columna \"package_name\", ya que el nombre de la aplicación no es relevante porque lo que vamos a clasificar son las reseñas sin importar de qué aplicación son."
            ]
        },
        {
            "cell_type": "code",
            "execution_count": 5,
            "metadata": {},
            "outputs": [
                {
                    "data": {
                        "text/html": [
                            "<div>\n",
                            "<style scoped>\n",
                            "    .dataframe tbody tr th:only-of-type {\n",
                            "        vertical-align: middle;\n",
                            "    }\n",
                            "\n",
                            "    .dataframe tbody tr th {\n",
                            "        vertical-align: top;\n",
                            "    }\n",
                            "\n",
                            "    .dataframe thead th {\n",
                            "        text-align: right;\n",
                            "    }\n",
                            "</style>\n",
                            "<table border=\"1\" class=\"dataframe\">\n",
                            "  <thead>\n",
                            "    <tr style=\"text-align: right;\">\n",
                            "      <th></th>\n",
                            "      <th>review</th>\n",
                            "      <th>polarity</th>\n",
                            "    </tr>\n",
                            "  </thead>\n",
                            "  <tbody>\n",
                            "    <tr>\n",
                            "      <th>0</th>\n",
                            "      <td>privacy at least put some option appear offli...</td>\n",
                            "      <td>0</td>\n",
                            "    </tr>\n",
                            "    <tr>\n",
                            "      <th>1</th>\n",
                            "      <td>messenger issues ever since the last update, ...</td>\n",
                            "      <td>0</td>\n",
                            "    </tr>\n",
                            "    <tr>\n",
                            "      <th>2</th>\n",
                            "      <td>profile any time my wife or anybody has more ...</td>\n",
                            "      <td>0</td>\n",
                            "    </tr>\n",
                            "    <tr>\n",
                            "      <th>3</th>\n",
                            "      <td>the new features suck for those of us who don...</td>\n",
                            "      <td>0</td>\n",
                            "    </tr>\n",
                            "    <tr>\n",
                            "      <th>4</th>\n",
                            "      <td>forced reload on uploading pic on replying co...</td>\n",
                            "      <td>0</td>\n",
                            "    </tr>\n",
                            "  </tbody>\n",
                            "</table>\n",
                            "</div>"
                        ],
                        "text/plain": [
                            "                                              review  polarity\n",
                            "0   privacy at least put some option appear offli...         0\n",
                            "1   messenger issues ever since the last update, ...         0\n",
                            "2   profile any time my wife or anybody has more ...         0\n",
                            "3   the new features suck for those of us who don...         0\n",
                            "4   forced reload on uploading pic on replying co...         0"
                        ]
                    },
                    "execution_count": 5,
                    "metadata": {},
                    "output_type": "execute_result"
                }
            ],
            "source": [
                "total_data.drop([\"package_name\"], axis = 1, inplace = True)\n",
                "total_data.head()"
            ]
        },
        {
            "cell_type": "code",
            "execution_count": 20,
            "metadata": {},
            "outputs": [
                {
                    "data": {
                        "text/plain": [
                            "331      just did the latest update on viber and yet ...\n",
                            "733     keeps crashing it only works well in extreme ...\n",
                            "382     the fail boat has arrived the 6.0 version is ...\n",
                            "704     superfast, just as i remember it ! opera mini...\n",
                            "813     installed and immediately deleted this crap i...\n",
                            "Name: review, dtype: object"
                        ]
                    },
                    "execution_count": 20,
                    "metadata": {},
                    "output_type": "execute_result"
                }
            ],
            "source": [
                "from sklearn.model_selection import train_test_split\n",
                "\n",
                "X = total_data[\"review\"]\n",
                "y = total_data[\"polarity\"]\n",
                "X_train, X_test, y_train, y_test = train_test_split(X, y, test_size = 0.2, random_state = 42)\n",
                "\n",
                "\n",
                "X_train.head()"
            ]
        },
        {
            "cell_type": "markdown",
            "metadata": {},
            "source": [
                "Dividimos el Dataset en su train y su test."
            ]
        },
        {
            "cell_type": "code",
            "execution_count": 23,
            "metadata": {},
            "outputs": [],
            "source": [
                "from sklearn.feature_extraction.text import CountVectorizer\n",
                "import numpy as np\n",
                "\n",
                "vec_model = CountVectorizer(stop_words = \"english\")\n",
                "\n",
                "X_train_v = vec_model.fit_transform(X_train).toarray()\n",
                "X_test_v = vec_model.transform(X_test).toarray()"
            ]
        },
        {
            "cell_type": "markdown",
            "metadata": {},
            "source": [
                "### 3. Naive Bayes\n",
                "\n",
                "#### 3.1 Gaussian"
            ]
        },
        {
            "cell_type": "code",
            "execution_count": 24,
            "metadata": {},
            "outputs": [
                {
                    "name": "stdout",
                    "output_type": "stream",
                    "text": [
                        "Accuracy Gaussian: [0.9859550561797753]\n"
                    ]
                }
            ],
            "source": [
                "from sklearn.naive_bayes import GaussianNB\n",
                "from sklearn.metrics import accuracy_score\n",
                "from pickle import dump\n",
                "\n",
                "accuracy_results = []\n",
                "\n",
                "model = GaussianNB()\n",
                "\n",
                "model.fit(X_train_v, y_train)\n",
                "y_pred = model.predict(X_train_v)\n",
                "\n",
                "accuracy = accuracy_score(y_train, y_pred)\n",
                "accuracy_results.append(accuracy_score(y_train, y_pred))\n",
                "\n",
                "print(\"Accuracy Gaussian:\", accuracy_results)"
            ]
        },
        {
            "cell_type": "code",
            "execution_count": 25,
            "metadata": {},
            "outputs": [
                {
                    "name": "stdout",
                    "output_type": "stream",
                    "text": [
                        "Accuracy en test con Gaussian: 0.8044692737430168\n"
                    ]
                }
            ],
            "source": [
                "model = GaussianNB()\n",
                "\n",
                "model.fit(X_train_v, y_train)\n",
                "y_pred_test = model.predict(X_test_v)\n",
                "\n",
                "accuracy = accuracy_score(y_test, y_pred_test)\n",
                "print(\"Accuracy en test con Gaussian:\", accuracy)"
            ]
        },
        {
            "cell_type": "code",
            "execution_count": 26,
            "metadata": {},
            "outputs": [],
            "source": [
                "from pickle import dump\n",
                "\n",
                "dump(model, open(\"/workspaces/ivandla96-Proyecto-Naive-Bayes/models/naive-bayes-gaussian.sav\", \"wb\"))"
            ]
        },
        {
            "cell_type": "markdown",
            "metadata": {},
            "source": [
                "Guardamos el modelo para una posible situación en el futuro de utilizarlo."
            ]
        },
        {
            "cell_type": "markdown",
            "metadata": {},
            "source": [
                "#### 3.2 Multinomial"
            ]
        },
        {
            "cell_type": "code",
            "execution_count": 32,
            "metadata": {},
            "outputs": [
                {
                    "name": "stdout",
                    "output_type": "stream",
                    "text": [
                        "Accuracy Multinomial: [0.9606741573033708]\n"
                    ]
                }
            ],
            "source": [
                "from sklearn.naive_bayes import MultinomialNB\n",
                "from sklearn.metrics import accuracy_score\n",
                "from pickle import dump\n",
                "\n",
                "accuracy_results = []\n",
                "\n",
                "model = MultinomialNB(\n",
                "    alpha=1.0,\n",
                "    fit_prior=True,\n",
                ")\n",
                "\n",
                "model.fit(X_train_v, y_train)\n",
                "y_pred = model.predict(X_train_v)\n",
                "\n",
                "accuracy = accuracy_score(y_train, y_pred)\n",
                "accuracy_results.append(accuracy_score(y_train, y_pred))\n",
                "\n",
                "print(\"Accuracy Multinomial:\", accuracy_results)"
            ]
        },
        {
            "cell_type": "code",
            "execution_count": 31,
            "metadata": {},
            "outputs": [
                {
                    "name": "stdout",
                    "output_type": "stream",
                    "text": [
                        "Accuracy en test con Multinomial: 0.8156424581005587\n"
                    ]
                }
            ],
            "source": [
                "model = MultinomialNB(\n",
                "    alpha=1.0,\n",
                "    fit_prior=True,\n",
                ")\n",
                "model.fit(X_train_v, y_train)\n",
                "y_pred_test = model.predict(X_test_v)\n",
                "\n",
                "accuracy = accuracy_score(y_test, y_pred_test)\n",
                "print(\"Accuracy en test con Multinomial:\", accuracy)"
            ]
        },
        {
            "cell_type": "markdown",
            "metadata": {},
            "source": [
                "El accuracy nos da un poco mejor que con el Gaussian."
            ]
        },
        {
            "cell_type": "code",
            "execution_count": 35,
            "metadata": {},
            "outputs": [],
            "source": [
                "from pickle import dump\n",
                "\n",
                "dump(model, open(\"/workspaces/ivandla96-Proyecto-Naive-Bayes/models/naive-bayes-Multinomial.sav\", \"wb\"))"
            ]
        },
        {
            "cell_type": "markdown",
            "metadata": {},
            "source": [
                "#### 3.3 Bernouilli"
            ]
        },
        {
            "cell_type": "code",
            "execution_count": 36,
            "metadata": {},
            "outputs": [
                {
                    "name": "stdout",
                    "output_type": "stream",
                    "text": [
                        "Accuracy en Bernouilli NB: [0.9199438202247191]\n"
                    ]
                }
            ],
            "source": [
                "from sklearn.naive_bayes import BernoulliNB\n",
                "from sklearn.metrics import accuracy_score\n",
                "from pickle import dump\n",
                "\n",
                "accuracy_results = []\n",
                "\n",
                "model = BernoulliNB(\n",
                "    alpha=1.0,\n",
                "    binarize=0.0,\n",
                ")\n",
                "\n",
                "model.fit(X_train_v, y_train)\n",
                "y_pred = model.predict(X_train_v)\n",
                "\n",
                "accuracy = accuracy_score(y_train, y_pred)\n",
                "accuracy_results.append(accuracy_score(y_train, y_pred))\n",
                "\n",
                "print(\"Accuracy en Bernouilli NB:\", accuracy_results)"
            ]
        },
        {
            "cell_type": "code",
            "execution_count": 37,
            "metadata": {},
            "outputs": [
                {
                    "name": "stdout",
                    "output_type": "stream",
                    "text": [
                        "Accuracy en test con Bernouilli NB: 0.770949720670391\n"
                    ]
                }
            ],
            "source": [
                "model = BernoulliNB(\n",
                "    alpha=1.0,\n",
                "    binarize=0.0,\n",
                ")\n",
                "model.fit(X_train_v, y_train)\n",
                "y_pred_test = model.predict(X_test_v)\n",
                "\n",
                "accuracy = accuracy_score(y_test, y_pred_test)\n",
                "print(\"Accuracy en test con Bernouilli NB:\", accuracy)"
            ]
        },
        {
            "cell_type": "markdown",
            "metadata": {},
            "source": [
                "Descartamos este modelo ya que nos da el peor accuracy de los 3 realizados."
            ]
        },
        {
            "cell_type": "code",
            "execution_count": 38,
            "metadata": {},
            "outputs": [],
            "source": [
                "from pickle import dump\n",
                "\n",
                "dump(model, open(\"/workspaces/ivandla96-Proyecto-Naive-Bayes/models/naive-bayes-Bernouilli.sav\", \"wb\"))"
            ]
        },
        {
            "cell_type": "markdown",
            "metadata": {},
            "source": [
                "### 4. Random Forest\n",
                "\n",
                "Como nos piden en el proyecto, vamos a intentar optimizar los resultados con un Random Forest"
            ]
        },
        {
            "cell_type": "code",
            "execution_count": 39,
            "metadata": {},
            "outputs": [
                {
                    "name": "stdout",
                    "output_type": "stream",
                    "text": [
                        "Accuracy: [0.8623595505617978]\n",
                        "Mejor Accuracy: 0.8623595505617978\n"
                    ]
                }
            ],
            "source": [
                "from sklearn.ensemble import RandomForestClassifier\n",
                "from sklearn.metrics import accuracy_score\n",
                "\n",
                "accuracy_results = []\n",
                "\n",
                "for dataset in [\n",
                "    X_train_v\n",
                "\n",
                "]:\n",
                "    model = RandomForestClassifier(\n",
                "    n_estimators=10, \n",
                "    max_depth=10, \n",
                "    min_samples_split=2, \n",
                "    min_samples_leaf=1, \n",
                "    max_features=None, \n",
                "    bootstrap=True, \n",
                "    n_jobs=8, \n",
                "    random_state=42,\n",
                ")\n",
                "    model.fit(dataset, y_train)\n",
                "    y_pred = model.predict(dataset)\n",
                "    accuracy = accuracy_score(y_train, y_pred)\n",
                "    accuracy_results.append(accuracy_score(y_train, y_pred))\n",
                "\n",
                "print(\"Accuracy:\", accuracy_results)\n",
                "print(\"Mejor Accuracy:\", max(accuracy_results))"
            ]
        }
    ],
    "metadata": {
        "kernelspec": {
            "display_name": "Python 3",
            "language": "python",
            "name": "python3"
        },
        "language_info": {
            "codemirror_mode": {
                "name": "ipython",
                "version": 3
            },
            "file_extension": ".py",
            "mimetype": "text/x-python",
            "name": "python",
            "nbconvert_exporter": "python",
            "pygments_lexer": "ipython3",
            "version": "3.11.4"
        },
        "orig_nbformat": 4
    },
    "nbformat": 4,
    "nbformat_minor": 2
}
